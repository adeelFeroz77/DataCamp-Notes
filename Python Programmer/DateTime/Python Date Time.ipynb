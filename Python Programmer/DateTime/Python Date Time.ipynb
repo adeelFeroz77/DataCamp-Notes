{
 "cells": [
  {
   "cell_type": "markdown",
   "id": "b673d0d1",
   "metadata": {},
   "source": [
    "<h2>DateTime MOdule</h2>"
   ]
  },
  {
   "cell_type": "code",
   "execution_count": 1,
   "id": "eae8399a",
   "metadata": {},
   "outputs": [],
   "source": [
    "date = '06/11/2016'"
   ]
  },
  {
   "cell_type": "code",
   "execution_count": 3,
   "id": "0d901b65",
   "metadata": {},
   "outputs": [
    {
     "name": "stdout",
     "output_type": "stream",
     "text": [
      "06/11/2016\n"
     ]
    }
   ],
   "source": [
    "from datetime import datetime\n",
    "print(date)"
   ]
  },
  {
   "cell_type": "code",
   "execution_count": 5,
   "id": "573b6523",
   "metadata": {},
   "outputs": [
    {
     "name": "stdout",
     "output_type": "stream",
     "text": [
      "2016-06-11 00:00:00\n"
     ]
    }
   ],
   "source": [
    "# STRING FORMAT TO DATETIME OBJECT\n",
    "date_dt = datetime.strptime(date,'%m/%d/%Y')\n",
    "print(date_dt)"
   ]
  },
  {
   "cell_type": "code",
   "execution_count": 6,
   "id": "4c19212c",
   "metadata": {},
   "outputs": [
    {
     "data": {
      "text/plain": [
       "'06/11/2016'"
      ]
     },
     "execution_count": 6,
     "metadata": {},
     "output_type": "execute_result"
    }
   ],
   "source": [
    "# DATETIME OBJECT TO STRING FORMAT\n",
    "date_dt.strftime('%m/%d/%Y')"
   ]
  },
  {
   "cell_type": "code",
   "execution_count": 8,
   "id": "2d97c43c",
   "metadata": {},
   "outputs": [
    {
     "data": {
      "text/plain": [
       "'2016-06-11T00:00:00'"
      ]
     },
     "execution_count": 8,
     "metadata": {},
     "output_type": "execute_result"
    }
   ],
   "source": [
    "#ISO FORMAT\n",
    "date_dt.isoformat()"
   ]
  },
  {
   "cell_type": "code",
   "execution_count": 10,
   "id": "4fac5aae",
   "metadata": {},
   "outputs": [
    {
     "name": "stdout",
     "output_type": "stream",
     "text": [
      "11\n",
      "6\n",
      "2016\n",
      "0\n",
      "0\n",
      "0\n"
     ]
    }
   ],
   "source": [
    "#COMPONENTS OF DATETIME\n",
    "print(date_dt.day)\n",
    "print(date_dt.month)\n",
    "print(date_dt.year)\n",
    "print(date_dt.hour)\n",
    "print(date_dt.minute)\n",
    "print(date_dt.second)"
   ]
  },
  {
   "cell_type": "code",
   "execution_count": 13,
   "id": "aed0aaa4",
   "metadata": {},
   "outputs": [
    {
     "name": "stdout",
     "output_type": "stream",
     "text": [
      "2022-06-23 23:41:45.674743\n",
      "2022-06-23 18:41:45.675521\n"
     ]
    }
   ],
   "source": [
    "print(datetime.now())\n",
    "print(datetime.utcnow())"
   ]
  },
  {
   "cell_type": "markdown",
   "id": "cd93c39e",
   "metadata": {},
   "source": [
    "<h2>TIMEZONE</h2>"
   ]
  },
  {
   "cell_type": "markdown",
   "id": "f7864237",
   "metadata": {},
   "source": [
    "*Naive date time objects have no time zone data <br>\n",
    "*Aware date time objects have a timezone <br>\n",
    "*Timezone data is available via the pytz module via the timezone object <br>\n",
    "*Aware objects have .astimezone() so you can get the time in another timezone<br>\n",
    "  "
   ]
  },
  {
   "cell_type": "code",
   "execution_count": 15,
   "id": "1271a2ae",
   "metadata": {},
   "outputs": [
    {
     "name": "stdout",
     "output_type": "stream",
     "text": [
      "2016-06-11 00:00:00-04:56\n",
      "2016-06-10 21:56:00-07:00\n"
     ]
    }
   ],
   "source": [
    "from pytz import timezone\n",
    "ny_tz = timezone('US/Eastern')\n",
    "la_tz = timezone('US/Pacific')\n",
    "\n",
    "ny_dt = date_dt.replace(tzinfo = ny_tz)\n",
    "la_dt = ny_dt.astimezone(la_tz)\n",
    "\n",
    "print(ny_dt)\n",
    "print(la_dt)"
   ]
  },
  {
   "cell_type": "markdown",
   "id": "ab060aa6",
   "metadata": {},
   "source": [
    "<h2>TimeDelta</h2>"
   ]
  },
  {
   "cell_type": "code",
   "execution_count": 16,
   "id": "5c1820a9",
   "metadata": {},
   "outputs": [
    {
     "name": "stdout",
     "output_type": "stream",
     "text": [
      "2016-06-11 00:00:00\n"
     ]
    }
   ],
   "source": [
    "from datetime import timedelta\n",
    "flashback = timedelta(days = 90)\n",
    "print(date_dt)"
   ]
  },
  {
   "cell_type": "code",
   "execution_count": 17,
   "id": "1c571db1",
   "metadata": {},
   "outputs": [
    {
     "name": "stdout",
     "output_type": "stream",
     "text": [
      "2016-03-13 00:00:00\n"
     ]
    }
   ],
   "source": [
    "print(date_dt-flashback)"
   ]
  },
  {
   "cell_type": "code",
   "execution_count": 18,
   "id": "93506330",
   "metadata": {},
   "outputs": [
    {
     "name": "stdout",
     "output_type": "stream",
     "text": [
      "2016-09-09 00:00:00\n"
     ]
    }
   ],
   "source": [
    "print(date_dt+flashback)"
   ]
  },
  {
   "cell_type": "markdown",
   "id": "7750955e",
   "metadata": {},
   "source": [
    "<h2>PENDULUM</h2>"
   ]
  },
  {
   "cell_type": "code",
   "execution_count": 25,
   "id": "14a1954e",
   "metadata": {},
   "outputs": [
    {
     "name": "stdout",
     "output_type": "stream",
     "text": [
      "2016-06-11T00:00:00-04:00\n"
     ]
    }
   ],
   "source": [
    "import pendulum\n",
    "pen_dt = pendulum.parse(date, tz = 'US/Eastern', strict = False)\n",
    "print(pen_dt)"
   ]
  },
  {
   "cell_type": "code",
   "execution_count": 26,
   "id": "500462f5",
   "metadata": {},
   "outputs": [
    {
     "name": "stdout",
     "output_type": "stream",
     "text": [
      "2016-06-10T23:00:00-05:00\n"
     ]
    }
   ],
   "source": [
    "#converting pendulum object any any timezone\n",
    "print(pen_dt.in_timezone('US/Central'))"
   ]
  },
  {
   "cell_type": "code",
   "execution_count": 27,
   "id": "d412a3cc",
   "metadata": {},
   "outputs": [
    {
     "name": "stdout",
     "output_type": "stream",
     "text": [
      "2022-06-23T23:57:29.454151+05:00\n"
     ]
    }
   ],
   "source": [
    "#get current time zone as pendulum object\n",
    "print(pendulum.now())"
   ]
  }
 ],
 "metadata": {
  "kernelspec": {
   "display_name": "Python 3 (ipykernel)",
   "language": "python",
   "name": "python3"
  },
  "language_info": {
   "codemirror_mode": {
    "name": "ipython",
    "version": 3
   },
   "file_extension": ".py",
   "mimetype": "text/x-python",
   "name": "python",
   "nbconvert_exporter": "python",
   "pygments_lexer": "ipython3",
   "version": "3.9.7"
  }
 },
 "nbformat": 4,
 "nbformat_minor": 5
}
