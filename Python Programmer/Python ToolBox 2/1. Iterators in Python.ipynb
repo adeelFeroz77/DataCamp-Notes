{
 "cells": [
  {
   "cell_type": "markdown",
   "id": "02bd344c",
   "metadata": {},
   "source": [
    "<h2>Iterators vs iterables</h2>\n",
    "<h3>Iterable</h3>\n",
    "    * Examples : lists, string, dicts, file connections<br>\n",
    "    * An object associated with an iter() method<br>\n",
    "    * Applying iter() to an iterable creates an iterator<br>\n",
    "<h3>Iterator</h3>\n",
    "    * Produces next value with next()"
   ]
  },
  {
   "cell_type": "code",
   "execution_count": 1,
   "id": "beb16129",
   "metadata": {},
   "outputs": [
    {
     "name": "stdout",
     "output_type": "stream",
     "text": [
      "b\n"
     ]
    }
   ],
   "source": [
    "word = \"ba\"\n",
    "it = iter(word)\n",
    "print(next(it))"
   ]
  },
  {
   "cell_type": "code",
   "execution_count": 2,
   "id": "07f59709",
   "metadata": {},
   "outputs": [
    {
     "name": "stdout",
     "output_type": "stream",
     "text": [
      "a\n"
     ]
    }
   ],
   "source": [
    "print(next(it))"
   ]
  },
  {
   "cell_type": "code",
   "execution_count": 3,
   "id": "e81e2f9b",
   "metadata": {},
   "outputs": [
    {
     "ename": "StopIteration",
     "evalue": "",
     "output_type": "error",
     "traceback": [
      "\u001b[0;31m---------------------------------------------------------------------------\u001b[0m",
      "\u001b[0;31mStopIteration\u001b[0m                             Traceback (most recent call last)",
      "\u001b[0;32m/tmp/ipykernel_139478/962129236.py\u001b[0m in \u001b[0;36m<module>\u001b[0;34m\u001b[0m\n\u001b[0;32m----> 1\u001b[0;31m \u001b[0mprint\u001b[0m\u001b[0;34m(\u001b[0m\u001b[0mnext\u001b[0m\u001b[0;34m(\u001b[0m\u001b[0mit\u001b[0m\u001b[0;34m)\u001b[0m\u001b[0;34m)\u001b[0m\u001b[0;34m\u001b[0m\u001b[0;34m\u001b[0m\u001b[0m\n\u001b[0m",
      "\u001b[0;31mStopIteration\u001b[0m: "
     ]
    }
   ],
   "source": [
    "print(next(it))"
   ]
  },
  {
   "cell_type": "code",
   "execution_count": 4,
   "id": "aca0ffd9",
   "metadata": {},
   "outputs": [
    {
     "name": "stdout",
     "output_type": "stream",
     "text": [
      "D a t a\n"
     ]
    }
   ],
   "source": [
    "word = \"Data\"\n",
    "it = iter(word)\n",
    "print(*it)"
   ]
  },
  {
   "cell_type": "code",
   "execution_count": 5,
   "id": "a6e059ce",
   "metadata": {},
   "outputs": [
    {
     "name": "stdout",
     "output_type": "stream",
     "text": [
      "A 1\n",
      "B 2\n",
      "C 3\n"
     ]
    }
   ],
   "source": [
    "Dict = {\"A\":1,\"B\":2,\"C\":3}\n",
    "for key,val in Dict.items():\n",
    "    print(key,val)"
   ]
  },
  {
   "cell_type": "code",
   "execution_count": 6,
   "id": "d72d8ce0",
   "metadata": {},
   "outputs": [
    {
     "name": "stdout",
     "output_type": "stream",
     "text": [
      "0 adil\n",
      "1 ahmed\n",
      "2 hamza\n",
      "3 hasan\n"
     ]
    }
   ],
   "source": [
    "lists = [\"adil\",\"ahmed\",\"hamza\",\"hasan\"]\n",
    "for index,val in enumerate(lists):\n",
    "    print(index,val)"
   ]
  },
  {
   "cell_type": "code",
   "execution_count": 7,
   "id": "fcb2b3b5",
   "metadata": {},
   "outputs": [
    {
     "name": "stdout",
     "output_type": "stream",
     "text": [
      "1 adil\n",
      "2 ahmed\n",
      "3 hamza\n",
      "4 hasan\n"
     ]
    }
   ],
   "source": [
    "lists = [\"adil\",\"ahmed\",\"hamza\",\"hasan\"]\n",
    "for index,val in enumerate(lists, start = 1):\n",
    "    print(index,val)"
   ]
  },
  {
   "cell_type": "code",
   "execution_count": null,
   "id": "da34e425",
   "metadata": {},
   "outputs": [],
   "source": []
  }
 ],
 "metadata": {
  "kernelspec": {
   "display_name": "Python 3 (ipykernel)",
   "language": "python",
   "name": "python3"
  },
  "language_info": {
   "codemirror_mode": {
    "name": "ipython",
    "version": 3
   },
   "file_extension": ".py",
   "mimetype": "text/x-python",
   "name": "python",
   "nbconvert_exporter": "python",
   "pygments_lexer": "ipython3",
   "version": "3.9.7"
  }
 },
 "nbformat": 4,
 "nbformat_minor": 5
}
