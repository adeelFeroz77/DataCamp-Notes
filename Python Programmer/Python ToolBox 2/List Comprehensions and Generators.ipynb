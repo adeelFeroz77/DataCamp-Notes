{
 "cells": [
  {
   "cell_type": "markdown",
   "id": "a9ff7b62",
   "metadata": {},
   "source": [
    "<h2>List Comprehensions</h2>\n",
    "<p>List comprehension offers a shorter syntax when you want to create a new list based on the values of an existing list.</p>"
   ]
  },
  {
   "cell_type": "code",
   "execution_count": 1,
   "id": "1a2dfae1",
   "metadata": {},
   "outputs": [
    {
     "data": {
      "text/plain": [
       "[13, 9, 22, 4, 17]"
      ]
     },
     "execution_count": 1,
     "metadata": {},
     "output_type": "execute_result"
    }
   ],
   "source": [
    "nums = [12,8,21,3,16]\n",
    "#SYNTAX([OUTPUT EXPRESSION {CONDITION ON OUTPUT EXP} FOR ITERATOR VARIABLE IN ITERABLE {CONDITION ON ITERABLE}])\n",
    "new_nums = [i+1 for i in nums]\n",
    "new_nums"
   ]
  },
  {
   "cell_type": "code",
   "execution_count": 2,
   "id": "538be615",
   "metadata": {},
   "outputs": [
    {
     "data": {
      "text/plain": [
       "[1, 2, 3, 4, 5, 6, 7, 8, 9, 10]"
      ]
     },
     "execution_count": 2,
     "metadata": {},
     "output_type": "execute_result"
    }
   ],
   "source": [
    "l = [i for i in range(1,11)]\n",
    "l"
   ]
  },
  {
   "cell_type": "code",
   "execution_count": 6,
   "id": "d121d6a6",
   "metadata": {},
   "outputs": [
    {
     "data": {
      "text/plain": [
       "[(0, 6), (0, 7), (1, 6), (1, 7)]"
      ]
     },
     "execution_count": 6,
     "metadata": {},
     "output_type": "execute_result"
    }
   ],
   "source": [
    "# NESTED LISTS\n",
    "pairs = []\n",
    "for i in range(0,2):\n",
    "    for j in range(6,8):\n",
    "        pairs.append((i,j))\n",
    "pairs"
   ]
  },
  {
   "cell_type": "code",
   "execution_count": 7,
   "id": "96b5e5ce",
   "metadata": {},
   "outputs": [
    {
     "data": {
      "text/plain": [
       "[(0, 6), (0, 7), (1, 6), (1, 7)]"
      ]
     },
     "execution_count": 7,
     "metadata": {},
     "output_type": "execute_result"
    }
   ],
   "source": [
    "pairs = [(i,j) for i in range(0,2) for j in range(6,8)]\n",
    "pairs"
   ]
  },
  {
   "cell_type": "code",
   "execution_count": 11,
   "id": "e9547de1",
   "metadata": {},
   "outputs": [
    {
     "data": {
      "text/plain": [
       "[2, 4, 6, 8, 10]"
      ]
     },
     "execution_count": 11,
     "metadata": {},
     "output_type": "execute_result"
    }
   ],
   "source": [
    "# Conditions on iterables\n",
    "l = [i for i in range(1,11) if i%2==0] # NO ELSE CONDITIONS\n",
    "l"
   ]
  },
  {
   "cell_type": "code",
   "execution_count": 17,
   "id": "92785464",
   "metadata": {},
   "outputs": [
    {
     "data": {
      "text/plain": [
       "[99, 2, 99, 4, 99, 6, 99, 8, 99, 10]"
      ]
     },
     "execution_count": 17,
     "metadata": {},
     "output_type": "execute_result"
    }
   ],
   "source": [
    "# Conditions in outer expression\n",
    "l = [i if i%2==0 else 99 for i in range(1,11)] #ELSE CONDITION IS NECESSARY\n",
    "l"
   ]
  },
  {
   "cell_type": "markdown",
   "id": "d41509b9",
   "metadata": {},
   "source": [
    "<h2>Dict Comprehensions</h2>"
   ]
  },
  {
   "cell_type": "code",
   "execution_count": 18,
   "id": "0bf510c5",
   "metadata": {},
   "outputs": [
    {
     "data": {
      "text/plain": [
       "{1: -1, 2: -2, 3: -3, 4: -4, 5: -5, 6: -6, 7: -7, 8: -8, 9: -9, 10: -10}"
      ]
     },
     "execution_count": 18,
     "metadata": {},
     "output_type": "execute_result"
    }
   ],
   "source": [
    "dic = {i:-i for i in range(1,11)}\n",
    "dic"
   ]
  },
  {
   "cell_type": "markdown",
   "id": "ba1562a1",
   "metadata": {},
   "source": [
    "<h2>Generators</h2>\n",
    "<p>Works same as List, but instead of returning a list it returns an iterable object</p>"
   ]
  },
  {
   "cell_type": "code",
   "execution_count": 23,
   "id": "0b596ae2",
   "metadata": {},
   "outputs": [
    {
     "data": {
      "text/plain": [
       "<generator object <genexpr> at 0x7efcebb9a190>"
      ]
     },
     "execution_count": 23,
     "metadata": {},
     "output_type": "execute_result"
    }
   ],
   "source": [
    "g = (i for i in range(1,11))\n",
    "g"
   ]
  },
  {
   "cell_type": "code",
   "execution_count": 24,
   "id": "bcdbd026",
   "metadata": {},
   "outputs": [
    {
     "name": "stdout",
     "output_type": "stream",
     "text": [
      "1\n",
      "2\n"
     ]
    }
   ],
   "source": [
    "print(next(g))\n",
    "print(next(g))"
   ]
  },
  {
   "cell_type": "code",
   "execution_count": 25,
   "id": "d9cdedc4",
   "metadata": {},
   "outputs": [
    {
     "name": "stdout",
     "output_type": "stream",
     "text": [
      "[3, 4, 5, 6, 7, 8, 9, 10]\n"
     ]
    }
   ],
   "source": [
    "print(list(g))"
   ]
  },
  {
   "cell_type": "code",
   "execution_count": 26,
   "id": "b2978ea9",
   "metadata": {},
   "outputs": [],
   "source": [
    "# Generator Functions\n",
    "def gen(n):\n",
    "    i= 0\n",
    "    while i<n:\n",
    "        yield i #INSTEAD OF RETURN, GENERATOR FUNCTIONS USE YIELD\n",
    "        i+=1"
   ]
  },
  {
   "cell_type": "code",
   "execution_count": 27,
   "id": "b35b9885",
   "metadata": {},
   "outputs": [
    {
     "name": "stdout",
     "output_type": "stream",
     "text": [
      "<class 'generator'>\n"
     ]
    }
   ],
   "source": [
    "res = gen(10)\n",
    "print(type(res))"
   ]
  },
  {
   "cell_type": "markdown",
   "id": "03b211dd",
   "metadata": {},
   "source": [
    "<h2>GENERATORS VS LIST COMPREHENSIONS</h2>"
   ]
  },
  {
   "cell_type": "markdown",
   "id": "cf8c7a05",
   "metadata": {},
   "source": [
    "The generator yields one item at a time and generates item only when in demand. Whereas, in a list comprehension, Python reserves memory for the whole list. Thus we can say that the generator expressions are memory efficient than the lists.\n",
    "We can see this in the example below."
   ]
  },
  {
   "cell_type": "code",
   "execution_count": 29,
   "id": "d416acc8",
   "metadata": {},
   "outputs": [
    {
     "name": "stdout",
     "output_type": "stream",
     "text": [
      "x =  85176\n",
      "y =  112\n"
     ]
    }
   ],
   "source": [
    "from sys import getsizeof\n",
    "  \n",
    "comp = [i for i in range(10000)]\n",
    "gen = (i for i in range(10000))\n",
    "  \n",
    "#gives size for list comprehension\n",
    "x = getsizeof(comp) \n",
    "print(\"x = \", x)\n",
    "  \n",
    "#gives size for generator expression\n",
    "y = getsizeof(gen) \n",
    "print(\"y = \", y)\n",
    "# THEY ARE TIME EFFICIENT ALSO"
   ]
  },
  {
   "cell_type": "code",
   "execution_count": null,
   "id": "86ea4b5f",
   "metadata": {},
   "outputs": [],
   "source": []
  }
 ],
 "metadata": {
  "kernelspec": {
   "display_name": "Python 3 (ipykernel)",
   "language": "python",
   "name": "python3"
  },
  "language_info": {
   "codemirror_mode": {
    "name": "ipython",
    "version": 3
   },
   "file_extension": ".py",
   "mimetype": "text/x-python",
   "name": "python",
   "nbconvert_exporter": "python",
   "pygments_lexer": "ipython3",
   "version": "3.9.7"
  }
 },
 "nbformat": 4,
 "nbformat_minor": 5
}
