{
 "cells": [
  {
   "cell_type": "markdown",
   "id": "dd8c703b",
   "metadata": {},
   "source": [
    "<h2>Global And Local Scope</h2>"
   ]
  },
  {
   "cell_type": "code",
   "execution_count": 7,
   "id": "82c13e9c",
   "metadata": {},
   "outputs": [
    {
     "data": {
      "text/plain": [
       "4"
      ]
     },
     "execution_count": 7,
     "metadata": {},
     "output_type": "execute_result"
    }
   ],
   "source": [
    "val = 10\n",
    "def square(value):\n",
    "    global val  # Changes the value of outer variable\n",
    "    val = value**2\n",
    "    return val\n",
    "square(2)"
   ]
  },
  {
   "cell_type": "markdown",
   "id": "248251a2",
   "metadata": {},
   "source": [
    "<h2>Nested Functions</h2>"
   ]
  },
  {
   "cell_type": "code",
   "execution_count": 10,
   "id": "99a5d747",
   "metadata": {},
   "outputs": [],
   "source": [
    "def mod(x1,x2,x3):\n",
    "    def inner(x):\n",
    "        return x%2+5\n",
    "    return (inner(x1),inner(x2),inner(x3))"
   ]
  },
  {
   "cell_type": "code",
   "execution_count": 11,
   "id": "74ec77cd",
   "metadata": {},
   "outputs": [
    {
     "name": "stdout",
     "output_type": "stream",
     "text": [
      "(5, 6, 6)\n"
     ]
    }
   ],
   "source": [
    "print(mod(2,3,5))"
   ]
  },
  {
   "cell_type": "code",
   "execution_count": 12,
   "id": "eff68457",
   "metadata": {},
   "outputs": [],
   "source": [
    "def raise_val(n):\n",
    "    \"\"\"Returns the inner function\"\"\"\n",
    "    \n",
    "    def inner(x):\n",
    "        raised = x**n\n",
    "        return raised\n",
    "    \n",
    "    return inner"
   ]
  },
  {
   "cell_type": "code",
   "execution_count": 14,
   "id": "c5c8eb15",
   "metadata": {},
   "outputs": [
    {
     "name": "stdout",
     "output_type": "stream",
     "text": [
      "4 8\n"
     ]
    }
   ],
   "source": [
    "sq = raise_val(2)\n",
    "cu = raise_val(3)\n",
    "print(sq(2),cu(2))"
   ]
  },
  {
   "cell_type": "markdown",
   "id": "49f87910",
   "metadata": {},
   "source": [
    "<h2>Var Args and Keyword Args</h2>"
   ]
  },
  {
   "cell_type": "code",
   "execution_count": 15,
   "id": "cc5acbfb",
   "metadata": {},
   "outputs": [],
   "source": [
    "def add_all(*args):\n",
    "    s = 0\n",
    "    for i in args:\n",
    "        s+=i\n",
    "    return s"
   ]
  },
  {
   "cell_type": "code",
   "execution_count": 16,
   "id": "281649cb",
   "metadata": {},
   "outputs": [
    {
     "name": "stdout",
     "output_type": "stream",
     "text": [
      "10\n"
     ]
    }
   ],
   "source": [
    "print(add_all(1,2,3,4))"
   ]
  },
  {
   "cell_type": "code",
   "execution_count": 23,
   "id": "2d546fd3",
   "metadata": {},
   "outputs": [],
   "source": [
    "def pri(**kwargs):\n",
    "    for key,val in kwargs.items():\n",
    "        print(key + \": \" + val)"
   ]
  },
  {
   "cell_type": "code",
   "execution_count": 24,
   "id": "82a81004",
   "metadata": {},
   "outputs": [
    {
     "name": "stdout",
     "output_type": "stream",
     "text": [
      "name: Adeel\n"
     ]
    }
   ],
   "source": [
    "pri(name = \"Adeel\")"
   ]
  },
  {
   "cell_type": "code",
   "execution_count": null,
   "id": "a678009a",
   "metadata": {},
   "outputs": [],
   "source": []
  }
 ],
 "metadata": {
  "kernelspec": {
   "display_name": "Python 3 (ipykernel)",
   "language": "python",
   "name": "python3"
  },
  "language_info": {
   "codemirror_mode": {
    "name": "ipython",
    "version": 3
   },
   "file_extension": ".py",
   "mimetype": "text/x-python",
   "name": "python",
   "nbconvert_exporter": "python",
   "pygments_lexer": "ipython3",
   "version": "3.9.7"
  }
 },
 "nbformat": 4,
 "nbformat_minor": 5
}
