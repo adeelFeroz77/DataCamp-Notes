{
 "cells": [
  {
   "cell_type": "code",
   "execution_count": 2,
   "id": "34c53c44",
   "metadata": {},
   "outputs": [],
   "source": [
    "from datetime import timedelta,timezone, datetime"
   ]
  },
  {
   "cell_type": "code",
   "execution_count": 6,
   "id": "26b3f589",
   "metadata": {},
   "outputs": [
    {
     "name": "stdout",
     "output_type": "stream",
     "text": [
      "2017-12-30 15:09:03-05:00\n"
     ]
    }
   ],
   "source": [
    "#EASTERN STANDARD TIME\n",
    "ET = timezone(timedelta(hours = -5))\n",
    "dt = datetime(2017,12,30,15,9,3, tzinfo = ET)\n",
    "print(dt)"
   ]
  },
  {
   "cell_type": "code",
   "execution_count": 7,
   "id": "2a7586a9",
   "metadata": {},
   "outputs": [
    {
     "name": "stdout",
     "output_type": "stream",
     "text": [
      "2017-12-31 01:39:03+05:30\n"
     ]
    }
   ],
   "source": [
    "IST = timezone(timedelta(hours = 5,minutes = 30))\n",
    "print(dt.astimezone(IST))"
   ]
  },
  {
   "cell_type": "code",
   "execution_count": 9,
   "id": "63ef1be0",
   "metadata": {},
   "outputs": [
    {
     "name": "stdout",
     "output_type": "stream",
     "text": [
      "2017-12-30 15:09:03-05:00\n",
      "2017-12-30 15:09:03+00:00\n",
      "2017-12-30 20:09:03+00:00\n"
     ]
    }
   ],
   "source": [
    "print(dt)\n",
    "print(dt.replace(tzinfo = timezone.utc))\n",
    "print(dt.astimezone(timezone.utc))"
   ]
  },
  {
   "cell_type": "code",
   "execution_count": 10,
   "id": "e16843cb",
   "metadata": {},
   "outputs": [],
   "source": [
    "from dateutil import tz"
   ]
  },
  {
   "cell_type": "code",
   "execution_count": 11,
   "id": "9358a485",
   "metadata": {},
   "outputs": [],
   "source": [
    "et = tz.gettz(\"America/New_York\")"
   ]
  },
  {
   "cell_type": "code",
   "execution_count": 14,
   "id": "8dca8e97",
   "metadata": {},
   "outputs": [],
   "source": [
    "dt = dt.replace(tzinfo = et)"
   ]
  },
  {
   "cell_type": "code",
   "execution_count": 17,
   "id": "300a7307",
   "metadata": {},
   "outputs": [],
   "source": [
    "last = dt\n",
    "first = datetime(2017,10,1,15,23,25, tzinfo = et)"
   ]
  },
  {
   "cell_type": "code",
   "execution_count": 18,
   "id": "4baa84fc",
   "metadata": {},
   "outputs": [
    {
     "name": "stdout",
     "output_type": "stream",
     "text": [
      "2017-12-30 15:09:03-05:00\n"
     ]
    }
   ],
   "source": [
    "print(last)"
   ]
  },
  {
   "cell_type": "code",
   "execution_count": 19,
   "id": "e7b49178",
   "metadata": {},
   "outputs": [
    {
     "name": "stdout",
     "output_type": "stream",
     "text": [
      "2017-10-01 15:23:25-04:00\n"
     ]
    }
   ],
   "source": [
    "print(first)"
   ]
  },
  {
   "cell_type": "code",
   "execution_count": null,
   "id": "77e81489",
   "metadata": {},
   "outputs": [],
   "source": []
  }
 ],
 "metadata": {
  "kernelspec": {
   "display_name": "Python 3 (ipykernel)",
   "language": "python",
   "name": "python3"
  },
  "language_info": {
   "codemirror_mode": {
    "name": "ipython",
    "version": 3
   },
   "file_extension": ".py",
   "mimetype": "text/x-python",
   "name": "python",
   "nbconvert_exporter": "python",
   "pygments_lexer": "ipython3",
   "version": "3.9.7"
  }
 },
 "nbformat": 4,
 "nbformat_minor": 5
}
