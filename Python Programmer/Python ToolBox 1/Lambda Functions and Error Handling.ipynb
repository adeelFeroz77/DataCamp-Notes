{
 "cells": [
  {
   "cell_type": "markdown",
   "id": "4af95a29",
   "metadata": {},
   "source": [
    "<h2>Lambda Functions and Others</h2>"
   ]
  },
  {
   "cell_type": "code",
   "execution_count": 2,
   "id": "34d993b6",
   "metadata": {},
   "outputs": [
    {
     "data": {
      "text/plain": [
       "8"
      ]
     },
     "execution_count": 2,
     "metadata": {},
     "output_type": "execute_result"
    }
   ],
   "source": [
    "power = lambda x,y: x**y\n",
    "# The values before , are parameters while the values after , are to be return\n",
    "power(2,3)"
   ]
  },
  {
   "cell_type": "code",
   "execution_count": 5,
   "id": "c61dfb4f",
   "metadata": {},
   "outputs": [
    {
     "name": "stdout",
     "output_type": "stream",
     "text": [
      "[2304, 36, 81, 441, 1]\n"
     ]
    }
   ],
   "source": [
    "#map(func, seq) Applies the function to all elements in sequence\n",
    "nums = [48,6,9,21,1]\n",
    "\n",
    "sq_all = map(lambda a: a**2, nums)\n",
    "print(list(sq_all))"
   ]
  },
  {
   "cell_type": "code",
   "execution_count": 8,
   "id": "01c72986",
   "metadata": {},
   "outputs": [
    {
     "name": "stdout",
     "output_type": "stream",
     "text": [
      "[48, 9, 21]\n"
     ]
    }
   ],
   "source": [
    "#filters(func, seq), USED TO FILTER OUT ELEMENTS FROM SEQ NOT FOLLOWING THE CRITERIA\n",
    "vals = filter(lambda a: a>6, nums)\n",
    "print(list(vals))"
   ]
  },
  {
   "cell_type": "code",
   "execution_count": 10,
   "id": "248c6934",
   "metadata": {},
   "outputs": [
    {
     "name": "stdout",
     "output_type": "stream",
     "text": [
      "85\n"
     ]
    }
   ],
   "source": [
    "#Reduce(func, seq) The reduce() function is useful for performing some computation on a list and,\n",
    "#unlike map() and filter(), returns a single value as a result. \n",
    "#To use reduce(), you must import it from the functools module.\n",
    "\n",
    "from functools import reduce\n",
    "vals = reduce(lambda num1,num2: num1+num2, nums)\n",
    "print(vals)"
   ]
  },
  {
   "cell_type": "code",
   "execution_count": 11,
   "id": "62d16e6a",
   "metadata": {},
   "outputs": [
    {
     "data": {
      "text/plain": [
       "85"
      ]
     },
     "execution_count": 11,
     "metadata": {},
     "output_type": "execute_result"
    }
   ],
   "source": [
    "48+6+9+21+1"
   ]
  },
  {
   "cell_type": "markdown",
   "id": "1fd615f0",
   "metadata": {},
   "source": [
    "<h2>Error Handling</h2>"
   ]
  },
  {
   "cell_type": "code",
   "execution_count": 13,
   "id": "f12ad2d8",
   "metadata": {},
   "outputs": [
    {
     "name": "stdout",
     "output_type": "stream",
     "text": [
      "args must be int or float\n"
     ]
    }
   ],
   "source": [
    "try:\n",
    "    float(\"sa\")\n",
    "except:\n",
    "    print(\"args must be int or float\")"
   ]
  },
  {
   "cell_type": "code",
   "execution_count": 14,
   "id": "e120f531",
   "metadata": {},
   "outputs": [
    {
     "ename": "ValueError",
     "evalue": "Number must be greater",
     "output_type": "error",
     "traceback": [
      "\u001b[0;31m---------------------------------------------------------------------------\u001b[0m",
      "\u001b[0;31mValueError\u001b[0m                                Traceback (most recent call last)",
      "\u001b[0;32m/tmp/ipykernel_133203/1947613120.py\u001b[0m in \u001b[0;36m<module>\u001b[0;34m\u001b[0m\n\u001b[1;32m      1\u001b[0m \u001b[0;32mif\u001b[0m \u001b[0;36m5\u001b[0m\u001b[0;34m<\u001b[0m\u001b[0;36m6\u001b[0m\u001b[0;34m:\u001b[0m\u001b[0;34m\u001b[0m\u001b[0;34m\u001b[0m\u001b[0m\n\u001b[0;32m----> 2\u001b[0;31m     \u001b[0;32mraise\u001b[0m \u001b[0mValueError\u001b[0m\u001b[0;34m(\u001b[0m\u001b[0;34m\"Number must be greater\"\u001b[0m\u001b[0;34m)\u001b[0m\u001b[0;34m\u001b[0m\u001b[0;34m\u001b[0m\u001b[0m\n\u001b[0m",
      "\u001b[0;31mValueError\u001b[0m: Number must be greater"
     ]
    }
   ],
   "source": [
    "if 5<6:\n",
    "    raise ValueError(\"Number must be greater\")"
   ]
  },
  {
   "cell_type": "code",
   "execution_count": null,
   "id": "2de15f5b",
   "metadata": {},
   "outputs": [],
   "source": []
  }
 ],
 "metadata": {
  "kernelspec": {
   "display_name": "Python 3 (ipykernel)",
   "language": "python",
   "name": "python3"
  },
  "language_info": {
   "codemirror_mode": {
    "name": "ipython",
    "version": 3
   },
   "file_extension": ".py",
   "mimetype": "text/x-python",
   "name": "python",
   "nbconvert_exporter": "python",
   "pygments_lexer": "ipython3",
   "version": "3.9.7"
  }
 },
 "nbformat": 4,
 "nbformat_minor": 5
}
