{
 "cells": [
  {
   "cell_type": "markdown",
   "id": "34be4b01",
   "metadata": {},
   "source": [
    "<h1>User Defined Functions</h1>"
   ]
  },
  {
   "cell_type": "code",
   "execution_count": 7,
   "id": "502608c0",
   "metadata": {},
   "outputs": [
    {
     "data": {
      "text/plain": [
       "16"
      ]
     },
     "execution_count": 7,
     "metadata": {},
     "output_type": "execute_result"
    }
   ],
   "source": [
    "def square(value):\n",
    "    \"\"\"Return the square of a value.\"\"\"    \n",
    "    new_value = value ** 2\n",
    "    return new_value\n",
    "square(4)"
   ]
  },
  {
   "cell_type": "markdown",
   "id": "a179b657",
   "metadata": {},
   "source": [
    "<h2>Muliple Parameters and Multiple Return Values</h2>"
   ]
  },
  {
   "cell_type": "code",
   "execution_count": 9,
   "id": "57542718",
   "metadata": {},
   "outputs": [],
   "source": [
    "def raise_both(value1, value2):\n",
    "    \"\"\"Raise value1 to the power of value2    and vice versa.\"\"\"    \n",
    "    new_value1 = value1 ** value2    \n",
    "    new_value2 = value2 ** value1    \n",
    "    new_tuple = (new_value1, new_value2)\n",
    "    return new_tuple"
   ]
  },
  {
   "cell_type": "code",
   "execution_count": 10,
   "id": "3bc2832d",
   "metadata": {},
   "outputs": [
    {
     "name": "stdout",
     "output_type": "stream",
     "text": [
      "16 16\n"
     ]
    }
   ],
   "source": [
    "x,y  = raise_both(2,4)\n",
    "print(x,y)"
   ]
  },
  {
   "cell_type": "code",
   "execution_count": null,
   "id": "0a968211",
   "metadata": {},
   "outputs": [],
   "source": []
  }
 ],
 "metadata": {
  "kernelspec": {
   "display_name": "Python 3 (ipykernel)",
   "language": "python",
   "name": "python3"
  },
  "language_info": {
   "codemirror_mode": {
    "name": "ipython",
    "version": 3
   },
   "file_extension": ".py",
   "mimetype": "text/x-python",
   "name": "python",
   "nbconvert_exporter": "python",
   "pygments_lexer": "ipython3",
   "version": "3.9.7"
  }
 },
 "nbformat": 4,
 "nbformat_minor": 5
}
