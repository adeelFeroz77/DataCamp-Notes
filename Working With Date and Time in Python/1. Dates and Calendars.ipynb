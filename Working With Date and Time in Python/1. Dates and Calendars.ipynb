{
 "cells": [
  {
   "cell_type": "code",
   "execution_count": 1,
   "id": "eab44122",
   "metadata": {},
   "outputs": [],
   "source": [
    "from datetime import date"
   ]
  },
  {
   "cell_type": "code",
   "execution_count": 2,
   "id": "3729459c",
   "metadata": {},
   "outputs": [],
   "source": [
    "dates = [date(2016,10,7),date(2017,6,21)]"
   ]
  },
  {
   "cell_type": "code",
   "execution_count": 3,
   "id": "1290edb5",
   "metadata": {},
   "outputs": [
    {
     "name": "stdout",
     "output_type": "stream",
     "text": [
      "2016\n",
      "10\n",
      "7\n"
     ]
    }
   ],
   "source": [
    "print(dates[0].year)\n",
    "print(dates[0].month)\n",
    "print(dates[0].day)"
   ]
  },
  {
   "cell_type": "code",
   "execution_count": 6,
   "id": "b55d8b5b",
   "metadata": {},
   "outputs": [
    {
     "name": "stdout",
     "output_type": "stream",
     "text": [
      "4\n"
     ]
    }
   ],
   "source": [
    "print(dates[0].weekday()) # 0= Monday, 1 = Tuesday ...... 6= Sunday"
   ]
  },
  {
   "cell_type": "code",
   "execution_count": 7,
   "id": "80fbd94f",
   "metadata": {},
   "outputs": [],
   "source": [
    "d1 = dates [0]\n",
    "d2 = dates [1]"
   ]
  },
  {
   "cell_type": "code",
   "execution_count": 8,
   "id": "145be92d",
   "metadata": {},
   "outputs": [
    {
     "name": "stdout",
     "output_type": "stream",
     "text": [
      "257\n"
     ]
    }
   ],
   "source": [
    "delta = d2-d1\n",
    "print(delta.days)"
   ]
  },
  {
   "cell_type": "code",
   "execution_count": 9,
   "id": "d97fb954",
   "metadata": {},
   "outputs": [
    {
     "name": "stdout",
     "output_type": "stream",
     "text": [
      "2016-10-07\n"
     ]
    }
   ],
   "source": [
    "print(d1.isoformat())"
   ]
  },
  {
   "cell_type": "code",
   "execution_count": 10,
   "id": "ec8c68ea",
   "metadata": {},
   "outputs": [
    {
     "name": "stdout",
     "output_type": "stream",
     "text": [
      "2016-10-07\n"
     ]
    }
   ],
   "source": [
    "print(d1.strftime(\"%Y-%m-%d\"))"
   ]
  },
  {
   "cell_type": "code",
   "execution_count": 11,
   "id": "f0ea5cd7",
   "metadata": {},
   "outputs": [
    {
     "name": "stdout",
     "output_type": "stream",
     "text": [
      "2016 (10) /07\n"
     ]
    }
   ],
   "source": [
    "print(d1.strftime(\"%Y (%m) /%d\"))"
   ]
  },
  {
   "cell_type": "code",
   "execution_count": 12,
   "id": "6b24550c",
   "metadata": {},
   "outputs": [
    {
     "name": "stdout",
     "output_type": "stream",
     "text": [
      "2016-October-07\n"
     ]
    }
   ],
   "source": [
    "print(d1.strftime(\"%Y-%B-%d\"))"
   ]
  },
  {
   "cell_type": "code",
   "execution_count": null,
   "id": "4f3665c5",
   "metadata": {},
   "outputs": [],
   "source": []
  }
 ],
 "metadata": {
  "kernelspec": {
   "display_name": "Python 3 (ipykernel)",
   "language": "python",
   "name": "python3"
  },
  "language_info": {
   "codemirror_mode": {
    "name": "ipython",
    "version": 3
   },
   "file_extension": ".py",
   "mimetype": "text/x-python",
   "name": "python",
   "nbconvert_exporter": "python",
   "pygments_lexer": "ipython3",
   "version": "3.9.7"
  }
 },
 "nbformat": 4,
 "nbformat_minor": 5
}
