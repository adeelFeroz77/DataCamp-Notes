{
 "cells": [
  {
   "cell_type": "code",
   "execution_count": 1,
   "id": "35f906ff",
   "metadata": {},
   "outputs": [],
   "source": [
    "from datetime import datetime"
   ]
  },
  {
   "cell_type": "code",
   "execution_count": 2,
   "id": "82f76426",
   "metadata": {},
   "outputs": [],
   "source": [
    "dt= datetime(2017,10,1,15,23,25)"
   ]
  },
  {
   "cell_type": "code",
   "execution_count": 4,
   "id": "e766944a",
   "metadata": {},
   "outputs": [],
   "source": [
    "dt = datetime(year = 2017,month = 10, day =1 ,hour = 15,minute= 23,second = 25,microsecond = 50000)"
   ]
  },
  {
   "cell_type": "code",
   "execution_count": 5,
   "id": "48271cd9",
   "metadata": {},
   "outputs": [
    {
     "name": "stdout",
     "output_type": "stream",
     "text": [
      "2017-10-01 15:23:25.050000\n"
     ]
    }
   ],
   "source": [
    "print(dt)"
   ]
  },
  {
   "cell_type": "code",
   "execution_count": 6,
   "id": "1ed5664c",
   "metadata": {},
   "outputs": [
    {
     "name": "stdout",
     "output_type": "stream",
     "text": [
      "2017-10-01\n"
     ]
    }
   ],
   "source": [
    "print(dt.strftime(\"%Y-%m-%d\"))"
   ]
  },
  {
   "cell_type": "code",
   "execution_count": 7,
   "id": "7780601c",
   "metadata": {},
   "outputs": [
    {
     "name": "stdout",
     "output_type": "stream",
     "text": [
      "2017-10-01 15:23:25\n"
     ]
    }
   ],
   "source": [
    "print(dt.strftime(\"%Y-%m-%d %H:%M:%S\"))"
   ]
  },
  {
   "cell_type": "code",
   "execution_count": 8,
   "id": "ae4ef825",
   "metadata": {},
   "outputs": [
    {
     "name": "stdout",
     "output_type": "stream",
     "text": [
      "15:23:25 on  2017-10-01\n"
     ]
    }
   ],
   "source": [
    "print(dt.strftime(\"%H:%M:%S on  %Y-%m-%d\"))"
   ]
  },
  {
   "cell_type": "code",
   "execution_count": 9,
   "id": "df093bb7",
   "metadata": {},
   "outputs": [
    {
     "name": "stdout",
     "output_type": "stream",
     "text": [
      "2017-10-01T15:23:25.050000\n"
     ]
    }
   ],
   "source": [
    "print(dt.isoformat())"
   ]
  },
  {
   "cell_type": "code",
   "execution_count": 12,
   "id": "65868714",
   "metadata": {},
   "outputs": [],
   "source": [
    "dt = dt.replace(microsecond = 0)"
   ]
  },
  {
   "cell_type": "code",
   "execution_count": 13,
   "id": "9872f3f9",
   "metadata": {},
   "outputs": [
    {
     "name": "stdout",
     "output_type": "stream",
     "text": [
      "2017-10-01T15:23:25\n"
     ]
    }
   ],
   "source": [
    "print(dt.isoformat())"
   ]
  },
  {
   "cell_type": "code",
   "execution_count": 14,
   "id": "ed4c6131",
   "metadata": {},
   "outputs": [],
   "source": [
    "date = '28/06/2022 00:03:26'"
   ]
  },
  {
   "cell_type": "code",
   "execution_count": 15,
   "id": "83d5aaa5",
   "metadata": {},
   "outputs": [],
   "source": [
    "convertDt = datetime.strptime(date,\"%d/%m/%Y %H:%M:%S\")"
   ]
  },
  {
   "cell_type": "code",
   "execution_count": 16,
   "id": "92ae53a3",
   "metadata": {},
   "outputs": [
    {
     "data": {
      "text/plain": [
       "datetime.datetime(2022, 6, 28, 0, 3, 26)"
      ]
     },
     "execution_count": 16,
     "metadata": {},
     "output_type": "execute_result"
    }
   ],
   "source": [
    "convertDt"
   ]
  },
  {
   "cell_type": "code",
   "execution_count": 17,
   "id": "e50cf164",
   "metadata": {},
   "outputs": [],
   "source": [
    "convertDt = datetime.strptime('28/June/2022 00:03:26',\"%d/%B/%Y %H:%M:%S\")"
   ]
  },
  {
   "cell_type": "code",
   "execution_count": 18,
   "id": "f9850913",
   "metadata": {},
   "outputs": [
    {
     "data": {
      "text/plain": [
       "datetime.datetime(2022, 6, 28, 0, 3, 26)"
      ]
     },
     "execution_count": 18,
     "metadata": {},
     "output_type": "execute_result"
    }
   ],
   "source": [
    "convertDt"
   ]
  },
  {
   "cell_type": "code",
   "execution_count": 19,
   "id": "b5a1c90d",
   "metadata": {},
   "outputs": [],
   "source": [
    "timestamp = 1514665153.0 #USED BY COMPUTERS, SECONDS TILL NOW FROM JANUARY 1,1970"
   ]
  },
  {
   "cell_type": "code",
   "execution_count": 20,
   "id": "ee7845be",
   "metadata": {},
   "outputs": [],
   "source": [
    "ts = datetime.fromtimestamp(timestamp)"
   ]
  },
  {
   "cell_type": "code",
   "execution_count": 21,
   "id": "5f7ab004",
   "metadata": {},
   "outputs": [
    {
     "data": {
      "text/plain": [
       "datetime.datetime(2017, 12, 31, 1, 19, 13)"
      ]
     },
     "execution_count": 21,
     "metadata": {},
     "output_type": "execute_result"
    }
   ],
   "source": [
    "ts"
   ]
  },
  {
   "cell_type": "code",
   "execution_count": 22,
   "id": "d2356a22",
   "metadata": {},
   "outputs": [],
   "source": [
    "from datetime import timedelta"
   ]
  },
  {
   "cell_type": "code",
   "execution_count": 23,
   "id": "5f2288a7",
   "metadata": {},
   "outputs": [],
   "source": [
    "delta1 = timedelta(seconds = 1)"
   ]
  },
  {
   "cell_type": "code",
   "execution_count": 25,
   "id": "94c0d5aa",
   "metadata": {},
   "outputs": [
    {
     "name": "stdout",
     "output_type": "stream",
     "text": [
      "2017-12-31 01:19:14\n"
     ]
    }
   ],
   "source": [
    "print(ts+delta1) #+1 SECOND"
   ]
  },
  {
   "cell_type": "code",
   "execution_count": 26,
   "id": "fe2527d0",
   "metadata": {},
   "outputs": [],
   "source": [
    "delta1 = timedelta(days = 2, seconds = 1)"
   ]
  },
  {
   "cell_type": "code",
   "execution_count": 27,
   "id": "0fb06269",
   "metadata": {},
   "outputs": [
    {
     "name": "stdout",
     "output_type": "stream",
     "text": [
      "2018-01-02 01:19:14\n"
     ]
    }
   ],
   "source": [
    "print(ts + delta1)"
   ]
  },
  {
   "cell_type": "code",
   "execution_count": 28,
   "id": "bd4d0ec7",
   "metadata": {},
   "outputs": [],
   "source": [
    "delta1 = timedelta(days = 2, seconds = 1, weeks = 1)"
   ]
  },
  {
   "cell_type": "code",
   "execution_count": 29,
   "id": "e1c60637",
   "metadata": {},
   "outputs": [
    {
     "name": "stdout",
     "output_type": "stream",
     "text": [
      "2018-01-09 01:19:14\n"
     ]
    }
   ],
   "source": [
    "print(ts + delta1)"
   ]
  },
  {
   "cell_type": "code",
   "execution_count": null,
   "id": "b2e06e95",
   "metadata": {},
   "outputs": [],
   "source": []
  }
 ],
 "metadata": {
  "kernelspec": {
   "display_name": "Python 3 (ipykernel)",
   "language": "python",
   "name": "python3"
  },
  "language_info": {
   "codemirror_mode": {
    "name": "ipython",
    "version": 3
   },
   "file_extension": ".py",
   "mimetype": "text/x-python",
   "name": "python",
   "nbconvert_exporter": "python",
   "pygments_lexer": "ipython3",
   "version": "3.9.7"
  }
 },
 "nbformat": 4,
 "nbformat_minor": 5
}
